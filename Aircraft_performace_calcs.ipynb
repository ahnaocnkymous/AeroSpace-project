{
 "cells": [
  {
   "cell_type": "code",
   "execution_count": 19,
   "id": "d59e3d7b",
   "metadata": {},
   "outputs": [
    {
     "name": "stdout",
     "output_type": "stream",
     "text": [
      "I'm gonna be the King of the Hackers!\n",
      "I'm gonna surpass my limits right here, right now~\n"
     ]
    }
   ],
   "source": [
    "print(\"I'm gonna be the King of the Hackers!\\nI'm gonna surpass my limits right here, right now~\")"
   ]
  },
  {
   "cell_type": "code",
   "execution_count": 58,
   "id": "d6e13da2",
   "metadata": {},
   "outputs": [],
   "source": [
    "import math\n",
    "# Pre-definded variable values\n",
    "fuel_capacity = 1000 # gallons\n",
    "fuel_consumption_rate = 50 # gallons per hour\n",
    "true_air_speed = 150 # knots\n",
    "payload = 5000 # pounds\n",
    "fuel_weight = 6000 # pounds\n",
    "moment_lists = [10000, 2500] # pound-feet\n",
    "total_weight = 1500 # pounds\n",
    "cl = 1.5 # lift coefficent\n",
    "rho = 1.225 # air density in kg/m^3\n",
    "v = 100 # velocity in m/s\n",
    "s = 20 # wing area in m^2\n",
    "cd = 0.02 # drag coefficient\n",
    "mass = 5000 # mass in kg \n",
    "g = 9.81 # acceleration due to gravity in m/s^2\n",
    "thrust = 6000 # thrust in N\n",
    "drag = 5000 # drag in N\n",
    "velocity = 50 # initial velocity in m/s\n",
    "acceleration = 2 # acceleration in m/s^2\n",
    "time = 10 # time in seconds"
   ]
  },
  {
   "cell_type": "code",
   "execution_count": 59,
   "id": "adb7c56f",
   "metadata": {},
   "outputs": [],
   "source": [
    "def Pretty_print(range_, endurance, total_weight, cg_position, lift, drag, weight, acceleration, velocity, distance):\n",
    "    print(\"Performance Calculations:\")\n",
    "    print(\"Range: {} Miles\".format(range_))\n",
    "    print(\"Endurance:{} hours\".format(endurance))\n",
    "    print(\"Total weight:{} kilograms\".format(total_weight))\n",
    "    print(\"Center of Gravity position:{} Feet\".format(cg_position))\n",
    "    print(\"Lift:{} Newtons\".format(lift))\n",
    "    print(\"Drag:{} Newtons\".format(drag))\n",
    "    print(\"Weight:{} Newtons\".format(weight))\n",
    "    print(\"Acceleration:{} m/s^2\".format(acceleration))\n",
    "    print(\"Velocity:{} m/s\".format(velocity))\n",
    "    print(\"Distance:{} meters\".format(distance))"
   ]
  },
  {
   "cell_type": "code",
   "execution_count": 60,
   "id": "afbd2f17",
   "metadata": {},
   "outputs": [],
   "source": [
    "def calculate_range(fuel_capacity, fuel_consumption_rate, true_air_speed):\n",
    "    range_in_hours = fuel_capacity/ fuel_consumption_rate\n",
    "    range_in_miles = range_in_hours * true_air_speed\n",
    "    return range_in_miles\n",
    "\n",
    "def calculate_endurance(fuel_capacity, fuel_consumption_rate):\n",
    "    endurance_in_hours = fuel_capacity / fuel_consumption_rate\n",
    "    return endurance_in_hours\n",
    "\n",
    "def calculate_total_weight(payload, fuel_weight):\n",
    "    total_weight_in_kg = math.ceil((payload + fuel_weight) / 2.2046) # weight in kg\n",
    "    return total_weight_in_kg\n",
    "def calculate_cg_position(moment_list, total_weight):\n",
    "    total_moment = sum(moment_list)\n",
    "    cg_position = total_moment / total_weight\n",
    "    return cg_position\n",
    "\n",
    "def calculate_moment(weight, arm):\n",
    "    return weight * arm\n",
    "\n",
    "def calculate_lift(cl, rho, v, s):\n",
    "    return 0.5 * cl * rho * v**2 * s\n",
    "\n",
    "def calculate_drag(cd, rho, v, s):\n",
    "    return 0.5 * cd * rho * v**2 * s\n",
    "    \n",
    "def calculate_weight(mass, g):\n",
    "    return mass * g\n",
    "    \n",
    "def calculate_acceleration(thrust, drag, weight, mass):\n",
    "    return(thrust - drag - weight) / mass\n",
    "\n",
    "def calculate_velocity(velocity, acceleration, time):\n",
    "    return velocity + acceleration * time\n",
    "\n",
    "def calculate_distance(velocity, time):\n",
    "    return velocity * time\n"
   ]
  },
  {
   "cell_type": "code",
   "execution_count": 61,
   "id": "5248b4e6",
   "metadata": {},
   "outputs": [
    {
     "name": "stdout",
     "output_type": "stream",
     "text": [
      "Performance Calculations:\n",
      "Range: 3000.0 Miles\n",
      "Endurance:20.0 hours\n",
      "Total weight:4990 kilograms\n",
      "Center of Gravity position:2.50501002004008 Feet\n",
      "Lift:183750.0 Newtons\n",
      "Drag:2450.0 Newtons\n",
      "Weight:49050.0 Newtons\n",
      "Acceleration:-9.1 m/s^2\n",
      "Velocity:-41.0 m/s\n",
      "Distance:-410.0 meters\n"
     ]
    }
   ],
   "source": [
    "range = calculate_range(fuel_capacity, fuel_consumption_rate, true_air_speed)\n",
    "endurance = calculate_endurance(fuel_capacity, fuel_consumption_rate)\n",
    "total_weight = calculate_total_weight(payload, fuel_weight)\n",
    "cg_position = calculate_cg_position(moment_lists, total_weight)\n",
    "lift = calculate_lift(cl, rho, v, s)\n",
    "drag = calculate_drag(cd, rho, v ,s)\n",
    "weight = calculate_weight(mass, g)\n",
    "acceleration = calculate_acceleration(thrust, drag, weight, mass)\n",
    "velocity = calculate_velocity(velocity, acceleration, time)\n",
    "distance = calculate_distance(velocity, time)\n",
    "\n",
    "Pretty_print(range, endurance, total_weight, cg_position, lift, drag, weight, acceleration, velocity, distance)"
   ]
  },
  {
   "cell_type": "code",
   "execution_count": 62,
   "id": "617f7de0",
   "metadata": {},
   "outputs": [],
   "source": [
    "def save_info_file(range_,endurance,total_weight,cg_position,lift,drag,weight,acceleration,velocity,distance,file):\n",
    "    file.write(\"Performance Calculation:\\n\")\n",
    "    file.write(\"Range: {} miles\\n\".format(range))\n",
    "    file.write(\"Endurance: {} hours\\n\".format(endurance))\n",
    "    file.write(\"Total Weight: {} Kilograms\\n\".format(total_weight))\n",
    "    file.write(\"Center of Gravity position: {} Feet\\n\".format(cg_position))\n",
    "    file.write(\"Lift: {} Newtons\\n\".format(lift))\n",
    "    file.write(\"Drag: {} Newtons\\n\".format(drag))\n",
    "    file.write(\"Weight: {} Newtons\\n\".format(weight))\n",
    "    file.write(\"Acceleration: {} m/s^2\\n\".format(acceleration))\n",
    "    file.write(\"Velocity: {} m/s\\n\".format(velocity))\n",
    "    file.write(\"Distance: {} meters\\n\".format(velocity))\n",
    "    file.close()"
   ]
  },
  {
   "cell_type": "code",
   "execution_count": 63,
   "id": "10790871",
   "metadata": {},
   "outputs": [],
   "source": [
    "with open('Aircraft-Performance-Analysis.txt', 'w') as f:\n",
    "    save_info_file(range,endurance,total_weight,cg_position,lift,drag,weight,acceleration,velocity,distance,file=f)"
   ]
  },
  {
   "cell_type": "code",
   "execution_count": null,
   "id": "a52379e7",
   "metadata": {},
   "outputs": [],
   "source": []
  }
 ],
 "metadata": {
  "kernelspec": {
   "display_name": ".venv (3.13.5)",
   "language": "python",
   "name": "python3"
  },
  "language_info": {
   "codemirror_mode": {
    "name": "ipython",
    "version": 3
   },
   "file_extension": ".py",
   "mimetype": "text/x-python",
   "name": "python",
   "nbconvert_exporter": "python",
   "pygments_lexer": "ipython3",
   "version": "3.13.5"
  }
 },
 "nbformat": 4,
 "nbformat_minor": 5
}
